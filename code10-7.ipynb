{
 "cells": [
  {
   "cell_type": "markdown",
   "metadata": {},
   "source": [
    "# 10.5 推定精度向上のためのテクニック\n",
    "- MCMCはマルコフ連鎖の繰り返し数を無限にしたときに、理想的な性能を達成できる\n",
    "- 現実では有限の繰り返しであるため、性能が劣化\n",
    "- より少ない繰り返し数で性能を維持するために、アルゴリズムから実装に至るまで、様々な改善手法が提案されている。\n",
    "    - レプリカ交換法・・・マルコフ連鎖による探索が局所的な領域から抜け出しにくくなる状況を回避する\n",
    "- 本書ではMCMCを活用した一般状態空間モデルの推定に関する改善手法として、線形・ガウス型の状態空間モデルが部分的に当てはまる場合について説明を行う。"
   ]
  },
  {
   "cell_type": "markdown",
   "metadata": {},
   "source": [
    "## 10.5.1 線形・ガウス型状態空間モデルが部分的に当てはまる場合\n",
    "- 一般状態空間モデルにおいて、線形・ガウス型状態空間モデルが部分的に当てはまる場合がある。\n",
    "    - カルマンフィルタを解法の部品として利用する\n",
    "    - MCMCをカルマンフィルタでは解けない部分に集中\n",
    "    - カルマンフィルタは解析解であり、推定精度の向上に寄与\n",
    "- 本書では、このようなアプローチは可能であれば利用するべきである、という立場をとる"
   ]
  },
  {
   "cell_type": "markdown",
   "metadata": {},
   "source": [
    "- このような方法が適用できるのは、一般状態空間モデルにおける状態が、線形・ガウス型状態空間モデルに従う部分とそれ以外の部分に分かれる場合\n",
    "    - 例えば、パラメータが未知の線形・ガウス型状態空間モデルにおいて、パラメータを確率変数として考え、状態とパラメータの同時事後分布$p(x_{0:T},\\theta|y_{1:T})$を推定する場合\n",
    "    - パラメータさえわかってしまえば、線形・ガウス型の状態空間モデルとして考えることができる"
   ]
  },
  {
   "cell_type": "markdown",
   "metadata": {},
   "source": [
    "1. 確率変数として考えているパラメータのみをMCMCで推定し、その推定結果をカルマンフィルタで利用する\n",
    "    - MCMCで求める事後分布は$p(\\theta|y_{1:T})$\n",
    "    - ベイズの定理から、$p(\\theta|y_{1:T}) \\propto p(y_{1:T}|\\theta) p(\\theta) $\n",
    "    - $ p(y_{1:T}|\\theta)$は線形・ガウス型状態空間モデルの尤度(gaussian_dlm_obs())\n",
    "    - $p(\\theta)$は、事前情報がなければ無情報事前分布\n",
    "    - こうして得られた$\\theta$の推定結果の代表値を点推定値として、カルマンフィルタにプラグイン\n",
    "1. あくまで同時事後分布$p(x_{0:T}, \\theta | y_{1:T})$からのサンプルを求める方法でFFBSを利用\n",
    "    - ベイズの定理から$p(x_{0:T}, \\theta | y_{1:T}) = p(x_{0:T}|\\theta, y_{1:T}) p(\\theta|y_{1:T})$\n",
    "    - 1項目の$p(x_{0:T}|\\theta, y_{1:T})$は$\\theta$が既知という条件になっているため、線形・ガウス型モデルに従い、FFBSが利用できる\n",
    "    - 2項目の$p(\\theta|y_{1:T})$のサンプリングには、上の1.の方法を用いる\n",
    "    - つまり、計算方法としては、最初に$p(\\theta|y_{1:T})$のサンプリングを行い、そのあとFFBSを用いて1項目の$p(x_{0:T}|\\theta, y_{1:T})$からサンプリングを行い、状態の標本を再生する\n",
    "    - FFBSはdlmBSample()\n",
    "\n",
    "- 結局、MCMCを用いるのはパラメータ推定の部分"
   ]
  },
  {
   "cell_type": "markdown",
   "metadata": {},
   "source": [
    "## 10.5.2 例：人工的なローカルレベルモデル\n",
    "- パラメータが未知の線形・ガウス型状態空間モデルにおいて、状態とパラメータを合わせて推定する例(2番目の方法)\n",
    "- 状態の事前分布に関する平均と分散は既知"
   ]
  },
  {
   "cell_type": "markdown",
   "metadata": {},
   "source": [
    "```\n",
    "// model10-3.stan\n",
    "// モデル：規定【ローカルレベルモデル、パラメータが未知、カルマンフィルタを活用】\n",
    "\n",
    "data{\n",
    "  int<lower=1>    t_max;   // 時系列長\n",
    "  matrix[1, t_max]    y;   // 観測値\n",
    "\n",
    "  matrix[1, 1]    G;       // 状態遷移行列・・・・・・・・・新しく追加！！！！！\n",
    "  matrix[1, 1]    F;       // 観測行列・・・・・・・・・・・新しく追加！！！！！\n",
    "  　　　　　　　　　　　　 // G, Fは線形・ガウス型状態空間モデルの尤度を計算する関数gaussian_dlm_obs()の引数として用いられる\n",
    "               \n",
    "  vector[1]      m0;       // 事前分布の平均\n",
    "  cov_matrix[1]  C0;       // 事前分布の分散\n",
    "}\n",
    "\n",
    "parameters{\n",
    "  cov_matrix[1]   W;       // 状態雑音の分散\n",
    "  cov_matrix[1]   V;       // 観測雑音の分散\n",
    "  　　　　　　　　　　　　 // 状態x0, xの記述が消えている\n",
    "}\n",
    "\n",
    "model{\n",
    "  // 尤度の部分\n",
    "  /* 線形・ガウス型状態空間モデルの尤度を求める関数 */\n",
    "  y ~ gaussian_dlm_obs(F, G, V, W, m0, C0);\n",
    "\n",
    "  // 事前分布の部分\n",
    "  // x0, xに関する記述が消えている\n",
    "  /* W, Vの事前分布：無情報事前分布（省略時のデフォルト設定を活用） */\n",
    "}\n",
    "```"
   ]
  },
  {
   "cell_type": "code",
   "execution_count": 1,
   "metadata": {},
   "outputs": [
    {
     "name": "stderr",
     "output_type": "stream",
     "text": [
      " 要求されたパッケージ StanHeaders をロード中です \n",
      "\n",
      " 要求されたパッケージ ggplot2 をロード中です \n",
      "\n",
      "rstan (Version 2.21.2, GitRev: 2e1f913d3ca3)\n",
      "\n",
      "For execution on a local, multicore CPU with excess RAM we recommend calling\n",
      "options(mc.cores = parallel::detectCores()).\n",
      "To avoid recompilation of unchanged Stan programs, we recommend calling\n",
      "rstan_options(auto_write = TRUE)\n",
      "\n",
      "Do not specify '-march=native' in 'LOCAL_CPPFLAGS' or a Makevars file\n",
      "\n"
     ]
    }
   ],
   "source": [
    "#[MCMCを活用したローカルレベルモデルの平滑化(パラメータが未知、カルマンフィルタを活用)]\n",
    "\n",
    "# 前処理\n",
    "set.seed(123)\n",
    "library(rstan)"
   ]
  },
  {
   "cell_type": "code",
   "execution_count": 2,
   "metadata": {},
   "outputs": [],
   "source": [
    "# Stanの事前設定：コードのHDD保存、並列計算、フラフの縦横比\n",
    "\n",
    "rstan_options(auto_write = TRUE)\n",
    "options(mc.cores = parallel::detectCores())\n",
    "theme_set(theme_get() + theme(aspect.ratio = 3/4))"
   ]
  },
  {
   "cell_type": "code",
   "execution_count": 3,
   "metadata": {},
   "outputs": [],
   "source": [
    "load(file = \"ArtifitialLocalLevelModel.RData\")"
   ]
  },
  {
   "cell_type": "code",
   "execution_count": 4,
   "metadata": {},
   "outputs": [],
   "source": [
    "# モデル：生成・コンパイル\n",
    "stan_mod_out <- stan_model(file = \"model10-3.stan\")"
   ]
  },
  {
   "cell_type": "code",
   "execution_count": 5,
   "metadata": {},
   "outputs": [],
   "source": [
    "# 平滑化：実行(サンプリング)\n",
    "dim(mod$m0) <- 1\n",
    "fit_scan <- sampling(object = stan_mod_out, \n",
    "                    data = list(t_max = t_max, y = matrix(y, nrow = 1),\n",
    "                               G = mod$G, F = t(mod$F),\n",
    "                               m0 = mod$m0, C0 = mod$C0),\n",
    "                    pars = c(\"W\", \"V\"),\n",
    "                    seed = 123)"
   ]
  },
  {
   "cell_type": "code",
   "execution_count": 6,
   "metadata": {},
   "outputs": [
    {
     "data": {
      "text/plain": [
       "Inference for Stan model: model10-3.\n",
       "4 chains, each with iter=2000; warmup=1000; thin=1; \n",
       "post-warmup draws per chain=1000, total post-warmup draws=4000.\n",
       "\n",
       "          mean se_mean   sd    2.5%     25%     50%     75%   97.5% n_eff Rhat\n",
       "W[1,1]    0.98    0.01 0.26    0.56    0.79    0.94    1.13    1.59  1965    1\n",
       "V[1,1]    2.07    0.01 0.32    1.48    1.84    2.06    2.27    2.76  1934    1\n",
       "lp__   -235.52    0.03 1.01 -238.13 -235.94 -235.22 -234.79 -234.52  1611    1\n",
       "\n",
       "Samples were drawn using NUTS(diag_e) at Fri Aug 06 17:56:22 2021.\n",
       "For each parameter, n_eff is a crude measure of effective sample size,\n",
       "and Rhat is the potential scale reduction factor on split chains (at \n",
       "convergence, Rhat=1)."
      ]
     },
     "metadata": {},
     "output_type": "display_data"
    }
   ],
   "source": [
    "# 結果の確認\n",
    "fit_scan"
   ]
  },
  {
   "cell_type": "markdown",
   "metadata": {},
   "source": [
    "- 実効サンプルサイズ(n_eff)はそれぞれ1965, 1934 / 4000 ・・・問題なし\n",
    "- Rhatは1(<1.1)で問題なし\n",
    "- W(状態雑音)の真値は1,推定結果は0.98・・・問題なし\n",
    "- V(観測雑音)の真値は2,推定結果は2.07・・・問題なし"
   ]
  },
  {
   "cell_type": "code",
   "execution_count": 7,
   "metadata": {},
   "outputs": [
    {
     "data": {
      "image/png": "[encoded data removed]",
      "text/plain": [
       "plot without title"
      ]
     },
     "metadata": {
      "image/png": {
       "height": 420,
       "width": 420
      }
     },
     "output_type": "display_data"
    }
   ],
   "source": [
    "traceplot(fit_scan, pars = c(\"W\", \"V\"), alpha = 0.5)"
   ]
  },
  {
   "cell_type": "code",
   "execution_count": 8,
   "metadata": {},
   "outputs": [
    {
     "name": "stderr",
     "output_type": "stream",
     "text": [
      "\n",
      " 次のパッケージを付け加えます: 'dlm' \n",
      "\n",
      "\n",
      " 以下のオブジェクトは 'package:ggplot2' からマスクされています: \n",
      "\n",
      "     %+% \n",
      "\n",
      "\n"
     ]
    }
   ],
   "source": [
    "#[MCMCを活用したローカルレベルモデルの平滑化(FFBSで状態を再生)]\n",
    "\n",
    "#前処理\n",
    "set.seed(123)\n",
    "library(dlm)"
   ]
  },
  {
   "cell_type": "code",
   "execution_count": 9,
   "metadata": {},
   "outputs": [],
   "source": [
    "# 必要なサンプリング結果をとりだす\n",
    "stan_mcmc_out <- rstan::extract(fit_scan, pars = c(\"W\", \"V\"))"
   ]
  },
  {
   "cell_type": "code",
   "execution_count": 10,
   "metadata": {},
   "outputs": [],
   "source": [
    "# FFBSの前処理：MCMCの繰り返しステップを設定、進捗バーの設定\n",
    "it_seq <- seq_along(stan_mcmc_out$V[,1,1])\n",
    "progress_bar <- txtProgressBar(min = 1, max = max(it_seq), style = 3)"
   ]
  },
  {
   "cell_type": "code",
   "execution_count": 11,
   "metadata": {},
   "outputs": [
    {
     "name": "stdout",
     "output_type": "stream",
     "text": [
      "  |======================================================================| 100%"
     ]
    }
   ],
   "source": [
    "# FFBSの本処理：状態の再生\n",
    "x_FFBS <- sapply(it_seq, function(it){\n",
    "    # 進捗バーの表示\n",
    "    setTxtProgressBar(pb = progress_bar, value = it)\n",
    "    \n",
    "    # W, Vの値をモデルに設定\n",
    "    mod$W[1,1] <- stan_mcmc_out$W[it, 1, 1]\n",
    "    mod$V[1,1] <- stan_mcmc_out$V[it, 1, 1]\n",
    "    \n",
    "    # FFBSの実行\n",
    "    return(dlmBSample(dlmFilter(y = y, mod = mod)))\n",
    "})"
   ]
  },
  {
   "cell_type": "markdown",
   "metadata": {},
   "source": [
    "- あるMCMCの繰り返しステップitにおける状態・観測雑音のサンプル値をモデルに設定し、dlmBSample()を用いて状態の標本を生成している。\n",
    "- モデルの状態・観測雑音はMCMCの繰り返しステップごとに変わるため、関数dlmFilter()を毎回実行している"
   ]
  },
  {
   "cell_type": "code",
   "execution_count": 12,
   "metadata": {},
   "outputs": [],
   "source": [
    "# FFBSの後処理：x0の分を除去して転置(Stanの出力と整合させて、列が時間方向)\n",
    "x_FFBS <- t(x_FFBS[-1, ])"
   ]
  },
  {
   "cell_type": "code",
   "execution_count": 13,
   "metadata": {},
   "outputs": [],
   "source": [
    "# 周辺化を行い、平均・25%値・75%値を求める\n",
    "s_FFBS <- colMeans(x_FFBS)\n",
    "s_FFBS_quant <- apply(x_FFBS, 2, FUN = quantile, probs = c(0.25, 0.75))"
   ]
  },
  {
   "cell_type": "code",
   "execution_count": 14,
   "metadata": {},
   "outputs": [
    {
     "data": {
      "image/png": "[encoded data removed]",
      "text/plain": [
       "plot without title"
      ]
     },
     "metadata": {
      "image/png": {
       "height": 420,
       "width": 420
      }
     },
     "output_type": "display_data"
    },
    {
     "data": {
      "image/png": "[encoded data removed]",
      "text/plain": [
       "plot without title"
      ]
     },
     "metadata": {
      "image/png": {
       "height": 420,
       "width": 420
      }
     },
     "output_type": "display_data"
    }
   ],
   "source": [
    "# 結果のプロット\n",
    "ts.plot(cbind(y, s), col = c(\"lightgray\", \"blue\"))\n",
    "lines(s_FFBS, col = \"red\", lty = \"dashed\")\n",
    "\n",
    "# 凡例\n",
    "legend(legend = c(\"観測値\", \"平均 （カルマン平滑化)\",  \"平均 （FFBS)\"),\n",
    "       lty = c(\"solid\", \"solid\", \"dashed\"),\n",
    "       col = c(\"lightgray\", \"blue\", \"red\"),\n",
    "       x = \"topright\", text.width = 50, cex = 0.6)\n",
    "\n",
    "# 結果のプロット\n",
    "ts.plot(cbind(y, do.call(\"cbind\", s_quant)),\n",
    "        col = c(\"lightgray\", \"blue\", \"blue\"))\n",
    "lines(s_FFBS_quant[\"25%\", ], col = \"red\", lty = \"dashed\")\n",
    "lines(s_FFBS_quant[\"75%\", ], col = \"red\", lty = \"dashed\")\n",
    "\n",
    "# 凡例\n",
    "legend(legend = c(\"観測値\", \"50%区間 （カルマン平滑化)\",  \"50%区間 （FFBS)\"),\n",
    "       lty = c(\"solid\", \"solid\", \"dashed\"),\n",
    "       col = c(\"lightgray\", \"blue\", \"red\"),\n",
    "       x = \"topright\", text.width = 60, cex = 0.6)"
   ]
  },
  {
   "cell_type": "markdown",
   "metadata": {},
   "source": [
    "- FFBSの結果と、パラメータを全て既知とした場合のカルマン平滑化の結果を比較\n",
    "- 両者の結果はほぼ一致"
   ]
  },
  {
   "cell_type": "code",
   "execution_count": null,
   "metadata": {},
   "outputs": [],
   "source": []
  }
 ],
 "metadata": {
  "kernelspec": {
   "display_name": "R",
   "language": "R",
   "name": "ir"
  },
  "language_info": {
   "codemirror_mode": "r",
   "file_extension": ".r",
   "mimetype": "text/x-r-source",
   "name": "R",
   "pygments_lexer": "r",
   "version": "4.1.0"
  }
 },
 "nbformat": 4,
 "nbformat_minor": 2
}
