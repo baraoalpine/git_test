{
 "cells": [
  {
   "cell_type": "markdown",
   "metadata": {},
   "source": [
    "## 10.5.3 例：英国における自動車運転者死傷者数\n",
    "- モデルが複雑(状態の数が多い、規定階層が深い、非線形性が強い)になってくると、改善の有効性が増す\n",
    "- ローカルレベル+周期モデル(時間領域アプローチ)で分析を行うことにする\n",
    "    - 線形・ガウス型状態空間モデルなので、カルマンフィルタを部品として利用することで推定の安全性を改善できる"
   ]
  },
  {
   "cell_type": "code",
   "execution_count": 1,
   "metadata": {},
   "outputs": [
    {
     "data": {
      "image/png": "[encoded data removed]",
      "text/plain": [
       "plot without title"
      ]
     },
     "metadata": {
      "image/png": {
       "height": 420,
       "width": 420
      }
     },
     "output_type": "display_data"
    }
   ],
   "source": [
    "#【英国における自動車運転者死傷者数：カルマン平滑化】\n",
    "\n",
    "# 前処理\n",
    "set.seed(123)\n",
    "library(dlm)\n",
    "\n",
    "# データを対数変換、時系列長の設定\n",
    "y <- log(UKDriverDeaths)\n",
    "t_max <- length(y)\n",
    "\n",
    "# 横軸時間のプロット\n",
    "plot(y)"
   ]
  },
  {
   "cell_type": "code",
   "execution_count": 2,
   "metadata": {},
   "outputs": [
    {
     "name": "stderr",
     "output_type": "stream",
     "text": [
      "Warning message in dlmLL(y = y, mod = mod, debug = debug):\n",
      "\"a numerically singular 'V' has been slightly perturbed to make it nonsingular\"\n",
      "Warning message in dlmLL(y = y, mod = mod, debug = debug):\n",
      "\"a numerically singular 'V' has been slightly perturbed to make it nonsingular\"\n",
      "Warning message in dlmLL(y = y, mod = mod, debug = debug):\n",
      "\"a numerically singular 'V' has been slightly perturbed to make it nonsingular\"\n",
      "Warning message in dlmLL(y = y, mod = mod, debug = debug):\n",
      "\"a numerically singular 'V' has been slightly perturbed to make it nonsingular\"\n",
      "Warning message in dlmLL(y = y, mod = mod, debug = debug):\n",
      "\"a numerically singular 'V' has been slightly perturbed to make it nonsingular\"\n",
      "Warning message in dlmLL(y = y, mod = mod, debug = debug):\n",
      "\"a numerically singular 'V' has been slightly perturbed to make it nonsingular\"\n",
      "Warning message in dlmLL(y = y, mod = mod, debug = debug):\n",
      "\"a numerically singular 'V' has been slightly perturbed to make it nonsingular\"\n"
     ]
    }
   ],
   "source": [
    "# モデルのテンプレート\n",
    "mod <- dlmModPoly(order = 1) + dlmModSeas(frequency = 12)\n",
    "\n",
    "# モデルを定義・構築するユーザ定義関数\n",
    "build_dlm_UKD <- function(par) {\n",
    "  mod$W[1, 1] <- exp(par[1])\n",
    "  mod$W[2, 2] <- exp(par[2])\n",
    "  mod$V[1, 1] <- exp(par[3])\n",
    "\n",
    "  return(mod)\n",
    "}\n",
    "\n",
    "# パラメータの最尤推定\n",
    "fit_dlm_UKD <- dlmMLE(y = y, parm = rep(0, times = 3), build = build_dlm_UKD)"
   ]
  },
  {
   "cell_type": "markdown",
   "metadata": {},
   "source": [
    "- 状態の事前分布の平均ベクトルは0、共分散行列は$10^7$I (デフォルト)\n",
    "- パラメータを最尤推定する際に警告\n",
    "    - dlmによるもので、観測雑音が0に近づいた場合、非常に小さな値($10^{-6}$)を付加したことをしめす\n",
    "    - 今回は結果に大きな影響を与えないため無視"
   ]
  },
  {
   "cell_type": "code",
   "execution_count": 3,
   "metadata": {},
   "outputs": [
    {
     "name": "stdout",
     "output_type": "stream",
     "text": [
      "0.000945628 1.894144e-10 0.003513922 \n"
     ]
    }
   ],
   "source": [
    "# モデルの設定と結果の確認\n",
    "mod <- build_dlm_UKD(fit_dlm_UKD$par)\n",
    "cat(diag(mod$W)[1:2], mod$V, \"\\n\")"
   ]
  },
  {
   "cell_type": "markdown",
   "metadata": {},
   "source": [
    "- レベル成分の状態雑音の分散、周期成分の状態雑音の分散、観測雑音の分散\n",
    "- 実データが対象であるためこの値が正解というわけではないが、目安にはなる"
   ]
  },
  {
   "cell_type": "code",
   "execution_count": 4,
   "metadata": {},
   "outputs": [
    {
     "data": {
      "image/png": "[encoded data removed]",
      "text/plain": [
       "plot without title"
      ]
     },
     "metadata": {
      "image/png": {
       "height": 420,
       "width": 420
      }
     },
     "output_type": "display_data"
    }
   ],
   "source": [
    "# 平滑化処理\n",
    "dlmSmoothed_obj <- dlmSmooth(y = y, mod = mod)\n",
    "\n",
    "# 平滑化分布の平均\n",
    "   mu <- dropFirst(dlmSmoothed_obj$s[, 1])\n",
    "gamma <- dropFirst(dlmSmoothed_obj$s[, 2])\n",
    "\n",
    "# 結果のプロット\n",
    "oldpar <- par(no.readonly = TRUE)\n",
    "par(mfrow = c(3, 1)); par(oma = c(2, 0, 0, 0)); par(mar = c(2, 4, 1, 1))\n",
    "ts.plot(    y, ylab = \"観測値(対数変換後)\")\n",
    "ts.plot(   mu, ylab = \"レベル成分\")\n",
    "ts.plot(gamma, ylab = \"周期成分\")\n",
    "mtext(text = \"Time\", side = 1, line = 1, outer = TRUE)\n",
    "par(oldpar)"
   ]
  },
  {
   "cell_type": "markdown",
   "metadata": {},
   "source": [
    "- 上から、観測値、レベル成分(平滑化分布の平均)、周期成分(平滑化分布の平均)"
   ]
  },
  {
   "cell_type": "markdown",
   "metadata": {},
   "source": [
    "### MCMCを用いた方法\n",
    "- 状態とパラメータを合わせてMCMCでサンプリングする"
   ]
  },
  {
   "cell_type": "markdown",
   "metadata": {},
   "source": [
    "```\n",
    "// model10-4.stan\n",
    "// モデル：規定【ローカルレベルモデル+周期モデル(時間領域アプローチ）】\n",
    "\n",
    "data{\n",
    "  int<lower=1>    t_max;            // 時系列長\n",
    "  vector[t_max]       y;            // 観測値\n",
    "\n",
    "  vector[12]         m0;            // 事前分布の平均ベクトル\n",
    "  cov_matrix[12]     C0;            // 事前分布の共分散行列\n",
    "}\n",
    "\n",
    "parameters{\n",
    "  real              x0_mu;          // 状態（レベル成分）[0]\n",
    "  vector[11]        x0_gamma;       // 状態（　周期成分）[0]\n",
    "  vector[t_max]      x_mu;          // 状態（レベル成分）[1:t_max]\n",
    "  vector[t_max]      x_gamma;       // 状態（　周期成分）[1:t_max]\n",
    "\n",
    "  real<lower=0>      W_mu;          // 状態雑音（レベル成分）の分散\n",
    "  real<lower=0>      W_gamma;       // 状態雑音（　周期成分）の分散\n",
    "  cov_matrix[1]      V;             // 観測雑音の共分散行列\n",
    "}\n",
    "\n",
    "model{\n",
    "  // 尤度の部分\n",
    "  /* 観測方程式 */\n",
    "  for (t in 1:t_max){\n",
    "    y[t] ~ normal(x_mu[t] + x_gamma[t], sqrt(V[1, 1]));\n",
    "  }\n",
    "\n",
    "  // 事前分布の部分\n",
    "  /* 状態（レベル成分）の事前分布 */\n",
    "  x0_mu ~ normal(m0[1], sqrt(C0[1, 1]));\n",
    "\n",
    "  /* 状態方程式（レベル成分） */\n",
    "    x_mu[1] ~ normal(x0_mu     , sqrt(W_mu));\n",
    "  for(t in 2:t_max){\n",
    "    x_mu[t] ~ normal( x_mu[t-1], sqrt(W_mu));\n",
    "  }\n",
    "\n",
    "  /* 状態（周期成分）の事前分布 */\n",
    "  for (p in 1:11){\n",
    "    x0_gamma[p] ~ normal(m0[p+1], sqrt(C0[(p+1), (p+1)]));\n",
    "  }\n",
    "\n",
    "  /* 状態方程式（周期成分） */\n",
    "    x_gamma[1] ~ normal(-sum(x0_gamma[1:11])                           ,\n",
    "                                                                     sqrt(W_gamma));\n",
    "  for(t in 2:11){\n",
    "    x_gamma[t] ~ normal(-sum(x0_gamma[t:11])-sum(x_gamma[     1:(t-1)]),\n",
    "                                                                     sqrt(W_gamma));\n",
    "  }\n",
    "  for(t in 12:t_max){\n",
    "    x_gamma[t] ~ normal(                    -sum(x_gamma[(t-11):(t-1)]),\n",
    "                                                                     sqrt(W_gamma));\n",
    "  }\n",
    "\n",
    "  /* W, Vの事前分布：無情報事前分布（省略時のデフォルト設定を活用） */\n",
    "}\n",
    "\n",
    "```"
   ]
  },
  {
   "cell_type": "code",
   "execution_count": 5,
   "metadata": {},
   "outputs": [
    {
     "name": "stderr",
     "output_type": "stream",
     "text": [
      " 要求されたパッケージ StanHeaders をロード中です \n",
      "\n",
      " 要求されたパッケージ ggplot2 をロード中です \n",
      "\n",
      "\n",
      " 次のパッケージを付け加えます: 'ggplot2' \n",
      "\n",
      "\n",
      " 以下のオブジェクトは 'package:dlm' からマスクされています: \n",
      "\n",
      "     %+% \n",
      "\n",
      "\n",
      "rstan (Version 2.21.2, GitRev: 2e1f913d3ca3)\n",
      "\n",
      "For execution on a local, multicore CPU with excess RAM we recommend calling\n",
      "options(mc.cores = parallel::detectCores()).\n",
      "To avoid recompilation of unchanged Stan programs, we recommend calling\n",
      "rstan_options(auto_write = TRUE)\n",
      "\n",
      "Do not specify '-march=native' in 'LOCAL_CPPFLAGS' or a Makevars file\n",
      "\n"
     ]
    }
   ],
   "source": [
    "#【英国における自動車運転者死傷者数：MCMCで状態もサンプリングする】\n",
    "\n",
    "# 前処理\n",
    "set.seed(123)\n",
    "library(rstan)\n",
    "\n",
    "# Stanの事前設定：コードのHDD保存、並列演算、グラフの縦横比\n",
    "rstan_options(auto_write = TRUE)\n",
    "options(mc.cores = parallel::detectCores())\n",
    "theme_set(theme_get() + theme(aspect.ratio = 3/4))"
   ]
  },
  {
   "cell_type": "code",
   "execution_count": 6,
   "metadata": {},
   "outputs": [],
   "source": [
    "# モデル：生成・コンパイル\n",
    "stan_mod_out <- stan_model(file = \"model10-4.stan\")"
   ]
  },
  {
   "cell_type": "code",
   "execution_count": 7,
   "metadata": {},
   "outputs": [
    {
     "name": "stderr",
     "output_type": "stream",
     "text": [
      "Warning message:\n",
      "\"There were 20 divergent transitions after warmup. See\n",
      "http://mc-stan.org/misc/warnings.html#divergent-transitions-after-warmup\n",
      "to find out why this is a problem and how to eliminate them.\"\n",
      "Warning message:\n",
      "\"There were 949 transitions after warmup that exceeded the maximum treedepth. Increase max_treedepth above 10. See\n",
      "http://mc-stan.org/misc/warnings.html#maximum-treedepth-exceeded\"\n",
      "Warning message:\n",
      "\"There were 4 chains where the estimated Bayesian Fraction of Missing Information was low. See\n",
      "http://mc-stan.org/misc/warnings.html#bfmi-low\"\n",
      "Warning message:\n",
      "\"Examine the pairs() plot to diagnose sampling problems\n",
      "\"\n",
      "Warning message:\n",
      "\"The largest R-hat is 1.21, indicating chains have not mixed.\n",
      "Running the chains for more iterations may help. See\n",
      "http://mc-stan.org/misc/warnings.html#r-hat\"\n",
      "Warning message:\n",
      "\"Bulk Effective Samples Size (ESS) is too low, indicating posterior means and medians may be unreliable.\n",
      "Running the chains for more iterations may help. See\n",
      "http://mc-stan.org/misc/warnings.html#bulk-ess\"\n",
      "Warning message:\n",
      "\"Tail Effective Samples Size (ESS) is too low, indicating posterior variances and tail quantiles may be unreliable.\n",
      "Running the chains for more iterations may help. See\n",
      "http://mc-stan.org/misc/warnings.html#tail-ess\"\n"
     ]
    }
   ],
   "source": [
    "fit_scan <- sampling(object = stan_mod_out, \n",
    "                    data = list(n = t_max, y = y, m0 = mod$m0, C0 = mod$C0),\n",
    "                    pars = c(\"W_mu\", \"W_gamma\", \"V\"),\n",
    "                    seed = 123)"
   ]
  },
  {
   "cell_type": "code",
   "execution_count": 8,
   "metadata": {},
   "outputs": [
    {
     "data": {
      "text/plain": [
       "Inference for Stan model: model10-4.\n",
       "4 chains, each with iter=2000; warmup=1000; thin=1; \n",
       "post-warmup draws per chain=1000, total post-warmup draws=4000.\n",
       "\n",
       "          mean se_mean   sd    2.5%     25%     50%     75%   97.5% n_eff Rhat\n",
       "W_mu       0.0    0.00  0.0    0.00    0.00    0.00    0.00    0.00   386 1.02\n",
       "W_gamma    0.0    0.00  0.0    0.00    0.00    0.00    0.00    0.00    40 1.13\n",
       "V[1,1]     0.0    0.00  0.0    0.00    0.00    0.00    0.00    0.00   883 1.00\n",
       "lp__    1851.6   23.73 99.7 1697.19 1782.52 1835.05 1899.82 2075.59    18 1.26\n",
       "\n",
       "Samples were drawn using NUTS(diag_e) at Fri Aug 06 15:01:03 2021.\n",
       "For each parameter, n_eff is a crude measure of effective sample size,\n",
       "and Rhat is the potential scale reduction factor on split chains (at \n",
       "convergence, Rhat=1)."
      ]
     },
     "metadata": {},
     "output_type": "display_data"
    }
   ],
   "source": [
    "fit_scan"
   ]
  },
  {
   "cell_type": "markdown",
   "metadata": {},
   "source": [
    "- sampling()の実行時に収束の悪化が検知され、警告が出ている\n",
    "- W_gamma(周期成分の状態雑音)のn_eff, Rhatの値が悪い"
   ]
  },
  {
   "cell_type": "code",
   "execution_count": 9,
   "metadata": {},
   "outputs": [
    {
     "data": {
      "image/png": "[encoded data removed]",
      "text/plain": [
       "plot without title"
      ]
     },
     "metadata": {
      "image/png": {
       "height": 420,
       "width": 420
      }
     },
     "output_type": "display_data"
    }
   ],
   "source": [
    "traceplot(fit_scan, pars = c(\"W_mu\", \"W_gamma\", \"V\"), alpha = 0.5)"
   ]
  },
  {
   "cell_type": "markdown",
   "metadata": {},
   "source": [
    "- 周期成分(真ん中)の推定結果の混ざり具合が悪い\n",
    "\n",
    "### MCMCを用いる\n",
    "- 次に、パラメータのみをMCMCでサンプリングし、そのあとFFBSで状態のサンプルを再生する"
   ]
  },
  {
   "cell_type": "markdown",
   "metadata": {},
   "source": [
    "```\n",
    "// model10-5.stan\n",
    "// モデル：規定【ローカルレベルモデル+周期モデル(時間領域アプローチ）、カルマンフィルタを活用】\n",
    "\n",
    "data{\n",
    "  int<lower=1>    t_max;           // 時系列長\n",
    "  matrix[1, t_max]    y;           // 観測値\n",
    "\n",
    "  matrix[12, 12]      G;           // 状態遷移行列\n",
    "  matrix[12,  1]      F;           // 観測行列\n",
    "  vector[12]         m0;           // 事前分布の平均ベクトル\n",
    "  cov_matrix[12]     C0;           // 事前分布の共分散行列\n",
    "}\n",
    "\n",
    "parameters{\n",
    "  real<lower=0>       W_mu;        // 状態雑音（レベル成分）の分散\n",
    "  real<lower=0>       W_gamma;     // 状態雑音（　周期成分）の分散\n",
    "  cov_matrix[1]       V;           // 観測雑音の共分散行列\n",
    "}\n",
    "\n",
    "transformed parameters{\n",
    "    matrix[12, 12]    W;           // 状態雑音の共分散行列\n",
    "\n",
    "    for (k in 1:12){               // Stanのmatrixでは列優先のアクセスが高速\n",
    "      for (j in 1:12){\n",
    "             if (j == 1 && k == 1){ W[j, k] = W_mu;     }\n",
    "        else if (j == 2 && k == 2){ W[j, k] = W_gamma;  }\n",
    "        else{                       W[j, k] = 0;        }\n",
    "      }\n",
    "    }\n",
    "}\n",
    "\n",
    "model{\n",
    "  // 尤度の部分\n",
    "  /* 線形・ガウス型状態空間モデルの尤度を求める関数 */\n",
    "  y ~ gaussian_dlm_obs(F, G, V, W, m0, C0);\n",
    "\n",
    "  // 事前分布の部分\n",
    "  /* W, Vの事前分布：無情報事前分布（省略時のデフォルト設定を活用） */\n",
    "}\n",
    "\n",
    "```"
   ]
  },
  {
   "cell_type": "markdown",
   "metadata": {},
   "source": [
    "- transformed parameters ブロックでは、dataブロックで宣言された定数やparametersブロックで宣言されたパラメータを利用して、計算に便利な別のパラメータを定義することが可能\n",
    "- 今回ここでは、状態雑音の共分散行列を組み立てている"
   ]
  },
  {
   "cell_type": "code",
   "execution_count": 10,
   "metadata": {},
   "outputs": [],
   "source": [
    "#【英国における自動車運転者死傷者数：MCMCで状態はサンプリングしない】\n",
    "\n",
    "# 前処理\n",
    "set.seed(123)\n",
    "library(rstan)\n",
    "\n",
    "# Stanの事前設定：コードのHDD保存、並列演算、グラフの縦横比\n",
    "rstan_options(auto_write = TRUE)\n",
    "options(mc.cores = parallel::detectCores())\n",
    "theme_set(theme_get() + theme(aspect.ratio = 3/4))"
   ]
  },
  {
   "cell_type": "code",
   "execution_count": 11,
   "metadata": {},
   "outputs": [
    {
     "name": "stderr",
     "output_type": "stream",
     "text": [
      "recompiling to avoid crashing R session\n",
      "\n"
     ]
    }
   ],
   "source": [
    "# モデル：生成・コンパイル\n",
    "stan_mod_out <- stan_model(file = \"model10-5.stan\")"
   ]
  },
  {
   "cell_type": "code",
   "execution_count": 12,
   "metadata": {},
   "outputs": [],
   "source": [
    "# 平滑化：実行（サンプリング）\n",
    "fit_stan <- sampling(object = stan_mod_out,\n",
    "                     data = list(t_max = t_max, y = matrix(y, nrow = 1), \n",
    "                                 G = mod$G, F = t(mod$F),\n",
    "                                 m0 = mod$m0, C0 = mod$C0),\n",
    "                     pars = c(\"W_mu\", \"W_gamma\", \"V\"),\n",
    "                     seed = 123\n",
    "            )"
   ]
  },
  {
   "cell_type": "code",
   "execution_count": 13,
   "metadata": {},
   "outputs": [
    {
     "data": {
      "text/plain": [
       "Inference for Stan model: model10-5.\n",
       "4 chains, each with iter=2000; warmup=1000; thin=1; \n",
       "post-warmup draws per chain=1000, total post-warmup draws=4000.\n",
       "\n",
       "          mean se_mean   sd   2.5%    25%    50%    75%  97.5% n_eff Rhat\n",
       "W_mu      0.00    0.00 0.00   0.00   0.00   0.00   0.00   0.00  2306    1\n",
       "W_gamma   0.00    0.00 0.00   0.00   0.00   0.00   0.00   0.00  3235    1\n",
       "V[1,1]    0.00    0.00 0.00   0.00   0.00   0.00   0.00   0.00  2174    1\n",
       "lp__    233.22    0.04 1.35 229.63 232.63 233.58 234.21 234.71  1410    1\n",
       "\n",
       "Samples were drawn using NUTS(diag_e) at Fri Aug 06 15:08:19 2021.\n",
       "For each parameter, n_eff is a crude measure of effective sample size,\n",
       "and Rhat is the potential scale reduction factor on split chains (at \n",
       "convergence, Rhat=1)."
      ]
     },
     "metadata": {},
     "output_type": "display_data"
    },
    {
     "data": {
      "image/png": "[encoded data removed]",
      "text/plain": [
       "plot without title"
      ]
     },
     "metadata": {
      "image/png": {
       "height": 420,
       "width": 420
      }
     },
     "output_type": "display_data"
    }
   ],
   "source": [
    "# 結果の確認\n",
    "fit_stan\n",
    "traceplot(fit_stan, pars = c(\"W_mu\", \"W_gamma\", \"V\"), alpha = 0.5)"
   ]
  },
  {
   "cell_type": "markdown",
   "metadata": {},
   "source": [
    "- n_eff, Rhatの値が改善\n",
    "- W_gammaの混ざり具合が改善"
   ]
  },
  {
   "cell_type": "code",
   "execution_count": 14,
   "metadata": {},
   "outputs": [
    {
     "name": "stdout",
     "output_type": "stream",
     "text": [
      "0.001113789 5.04785e-05 0.003370154 \n"
     ]
    }
   ],
   "source": [
    "# 推定結果の周辺分布の平均を確認\n",
    "cat(summary(fit_stan)$summary[   \"W_mu\", \"mean\"],\n",
    "    summary(fit_stan)$summary[\"W_gamma\", \"mean\"],\n",
    "    summary(fit_stan)$summary[ \"V[1,1]\", \"mean\"], \"\\n\")"
   ]
  },
  {
   "cell_type": "markdown",
   "metadata": {},
   "source": [
    "- 最尤推定値は0.000945628 1.894144e-10 0.003513922 \n",
    "- 周期成分の状態雑音の分散が大きめになっている\n",
    "- 最後に、FFBSを用いて状態のサンプルを再生し、パラメータを最尤推定した場合のカルマン平滑化の結果と比較"
   ]
  },
  {
   "cell_type": "code",
   "execution_count": 15,
   "metadata": {},
   "outputs": [
    {
     "name": "stdout",
     "output_type": "stream",
     "text": [
      "  |======================================================================| 100%"
     ]
    },
    {
     "data": {
      "image/png": "[encoded data removed]",
      "text/plain": [
       "plot without title"
      ]
     },
     "metadata": {
      "image/png": {
       "height": 420,
       "width": 420
      }
     },
     "output_type": "display_data"
    },
    {
     "data": {
      "image/png": "[encoded data removed]",
      "text/plain": [
       "plot without title"
      ]
     },
     "metadata": {
      "image/png": {
       "height": 420,
       "width": 420
      }
     },
     "output_type": "display_data"
    }
   ],
   "source": [
    "#【英国における自動車運転者死傷者数：FFBSで状態を再生】\n",
    "\n",
    "# 前処理\n",
    "set.seed(123)\n",
    "library(dlm)\n",
    "\n",
    "# 必要なサンプリング結果を取り出す\n",
    "stan_mcmc_out <- rstan::extract(fit_stan, pars = c(\"W_mu\", \"W_gamma\", \"V\"))\n",
    "\n",
    "# FFBSの前処理：MCMCの繰り返しステップを設定、進捗バーの設定\n",
    "it_seq <- seq_along(stan_mcmc_out$V[, 1, 1])\n",
    "progress_bar <- txtProgressBar(min = 1, max = max(it_seq), style = 3)\n",
    "\n",
    "# FFBSの本処理：状態の再生\n",
    "x_FFBS <- lapply(it_seq, function(it){\n",
    "  # 進捗バーの表示\n",
    "  setTxtProgressBar(pb = progress_bar, value = it)\n",
    "\n",
    "  # W, Vの値をモデルに設定\n",
    "  mod$W[1, 1] <- stan_mcmc_out$W_mu[it]\n",
    "  mod$W[2, 2] <- stan_mcmc_out$W_gamma[it]\n",
    "  mod$V[1, 1] <- stan_mcmc_out$V[it, 1, 1]\n",
    "\n",
    "  # FFBSの実行\n",
    "  return(dlmBSample(dlmFilter(y = y, mod = mod)))\n",
    "})\n",
    "\n",
    "# FFBSの後処理：x0の分を除去して転置（Stanの出力と整合させて、列が時間方向）\n",
    "   x_mu_FFBS <- t(sapply(x_FFBS, function(x){ x[-1, 1] }))\n",
    "x_gamma_FFBS <- t(sapply(x_FFBS, function(x){ x[-1, 2] }))\n",
    "\n",
    "# 周辺化を行い、平均を求める\n",
    "   mu_FFBS <- colMeans(   x_mu_FFBS)\n",
    "gamma_FFBS <- colMeans(x_gamma_FFBS)\n",
    "\n",
    "# 以降のコードは表示を省略\n",
    "\n",
    "# ts型に変換\n",
    "   mu_FFBS <- ts(   mu_FFBS); tsp(   mu_FFBS) <- tsp(   mu)\n",
    "gamma_FFBS <- ts(gamma_FFBS); tsp(gamma_FFBS) <- tsp(gamma)\n",
    "\n",
    "# 結果のプロット\n",
    "ts.plot(cbind(y, mu), col = c(\"lightgray\", \"blue\"))\n",
    "lines(mu_FFBS, col = \"red\", lty = \"dashed\")\n",
    "\n",
    "# 凡例\n",
    "legend(legend = c(\"観測値\", \"平均 （カルマン平滑化)\",  \"平均 （FFBS)\"),\n",
    "       lty = c(\"solid\", \"solid\", \"dashed\"),\n",
    "       col = c(\"lightgray\", \"blue\", \"red\"),\n",
    "       x = \"topright\",  cex = 0.6)\n",
    "\n",
    "# 結果のプロット\n",
    "ts.plot(gamma, col = \"blue\", ylab = \"\", ylim = c(-0.15, 0.31))\n",
    "lines(gamma_FFBS, col = \"red\", lty = \"dashed\")\n",
    "\n",
    "# 凡例\n",
    "legend(legend = c(\"観測値\", \"平均 （カルマン平滑化)\",  \"平均 （FFBS)\"),\n",
    "       lty = c(\"solid\", \"solid\", \"dashed\"),\n",
    "       col = c(\"lightgray\", \"blue\", \"red\"),\n",
    "       x = \"topright\", cex = 0.6)"
   ]
  },
  {
   "cell_type": "markdown",
   "metadata": {},
   "source": [
    "- 両者の結果はほぼ一致\n",
    "- 周期成分の平均に関して少しだけグラフにずれがある\n",
    "    - 周期成分の状態雑音の分散が最尤推定値に比べて大きめに推定された影響か\n",
    "\n",
    "### まとめ\n",
    "- 以上から、複雑なモデルで線形・ガウス型状態空間モデルが部分的に当てはまる場合、カルマンフィルタを部品として利用することで、推定の安定性を改善できることがわかった\n",
    "    - MCMCで状態とパラメータを同時に推定するよりも、パラメータをMCMCで推定してカルマンフィルタで利用する方が精度が改善できる"
   ]
  },
  {
   "cell_type": "markdown",
   "metadata": {},
   "source": [
    "1. 確率変数として考えているパラメータのみをMCMCで推定し、その推定結果をカルマンフィルタで利用する\n",
    "    - MCMCで求める事後分布は$p(\\theta|y_{1:T})$\n",
    "    - ベイズの定理から、$p(\\theta|y_{1:T}) \\propto p(y_{1:T}|\\theta) p(\\theta) $\n",
    "    - $ p(y_{1:T}|\\theta)$は線形・ガウス型状態空間モデルの尤度(gaussian_dlm_obs())\n",
    "    - $p(\\theta)$は、事前情報がなければ無情報事前分布\n",
    "    - こうして得られた$\\theta$の推定結果の代表値を点推定値として、カルマンフィルタにプラグイン\n",
    "1. あくまで同時事後分布$p(x_{0:T}, \\theta | y_{1:T})$からのサンプルを求める方法でFFBSを利用\n",
    "    - ベイズの定理から$p(x_{0:T}, \\theta | y_{1:T}) = p(x_{0:T}|\\theta, y_{1:T}) p(\\theta|y_{1:T})$\n",
    "    - 1項目の$p(x_{0:T}|\\theta, y_{1:T})$は$\\theta$が既知という条件になっているため、線形・ガウス型モデルに従い、FFBSが利用できる\n",
    "    - 2項目の$p(\\theta|y_{1:T})$のサンプリングには、上の1.の方法を用いる\n",
    "    - つまり、計算方法としては、最初に$p(\\theta|y_{1:T})$のサンプリングを行い、そのあとFFBSを用いて1項目の$p(x_{0:T}|\\theta, y_{1:T})$からサンプリングを行い、状態の標本を再生する\n",
    "    - FFBSはdlmBSample()\n"
   ]
  },
  {
   "cell_type": "code",
   "execution_count": null,
   "metadata": {},
   "outputs": [],
   "source": []
  }
 ],
 "metadata": {
  "kernelspec": {
   "display_name": "R",
   "language": "R",
   "name": "ir"
  },
  "language_info": {
   "codemirror_mode": "r",
   "file_extension": ".r",
   "mimetype": "text/x-r-source",
   "name": "R",
   "pygments_lexer": "r",
   "version": "4.1.0"
  }
 },
 "nbformat": 4,
 "nbformat_minor": 2
}
